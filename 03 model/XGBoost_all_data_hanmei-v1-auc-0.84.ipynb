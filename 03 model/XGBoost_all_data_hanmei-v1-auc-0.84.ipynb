{
 "cells": [
  {
   "cell_type": "code",
   "execution_count": 1,
   "id": "7ea639ff-9f3b-4d88-a227-be0a4417d9a9",
   "metadata": {},
   "outputs": [
    {
     "data": {
      "text/plain": [
       "0.0    2393\n",
       "1.0     581\n",
       "Name: label, dtype: int64"
      ]
     },
     "execution_count": 1,
     "metadata": {},
     "output_type": "execute_result"
    }
   ],
   "source": [
    "import numpy as np # linear algebra\n",
    "import pandas as pd # data processing, CSV file I/O (e.g. pd.read_csv)\n",
    "import sklearn\n",
    "from sklearn import preprocessing\n",
    "from sklearn.model_selection import train_test_split\n",
    "raw_data = pd.read_csv('data.csv')\n",
    "\n",
    "raw_df = pd.DataFrame({\n",
    "    \"gender\": raw_data.gender,\n",
    "    \"race\": raw_data.race,\n",
    "    \"age\": raw_data.age,  \n",
    "    \"atrial_fibrillation\": raw_data.atrial_fibrillation,\n",
    "    \"ischemic_stroke\": raw_data.ischemic_stroke, \n",
    "    \"trsnsient_ischemic_attack\": raw_data.trsnsient_ischemic_attack,\n",
    "    \"peripheral_arterial_occusive\": raw_data.peripheral_arterial_occusive, \n",
    "    \"myocardial_infarction\": raw_data.myocardial_infarction,\n",
    "    \"congestive_heart_failure\": raw_data.congestive_heart_failure,\n",
    "    \"hypertension\": raw_data.hypertension,\n",
    "    \"diabates_mellitus\": raw_data.diabates_mellitus,\n",
    "    \"hyperlipidemia\": raw_data.hyperlipidemia,\n",
    "    \"aspirin\": raw_data.aspirin,\n",
    "    #\"warfarin\":raw_data.warfarin,\n",
    "    \"bb\": raw_data.bb,\n",
    "    \"heartrate_max\": raw_data.heartrate_max,\n",
    "    \"sbp_min\": raw_data.sbp_min,\n",
    "    #\"map_min\": raw_data.map_min,\n",
    "    \"base_excess_val\": raw_data.base_excess_val,\n",
    "    \"ph_val\": raw_data.ph_val,\n",
    "    \"hemoglobin_val\": raw_data.hemoglobin_val,\n",
    "    \"lactate_val\": raw_data.lactate_val,\n",
    "    \"pt_val\": raw_data.pt_val,\n",
    "    \"ptt_val\": raw_data.ptt_val,\n",
    "    \"inr_val\": raw_data.inr_val,\n",
    "    \"urea_nitrogen_val\": raw_data.urea_nitrogen_val,\n",
    "    \"creatinine_val\": raw_data.creatinine_val,\n",
    "    \"platelet_count_val\": raw_data.platelet_count_val,\n",
    "    \"bilirubin_val\": raw_data.bilirubin_val,\n",
    "    \"albumin_val\": raw_data.albumin_val,\n",
    "    \"bun\": raw_data.bun,\n",
    "    \"label\": raw_data.trans\n",
    "})\n",
    "# change the race and gender into values\n",
    "raw_df['gender'] = raw_df['gender'].replace(['F'], 1)\n",
    "raw_df['gender'] = raw_df['gender'].replace(['M'], 0)\n",
    "raw_df['race'] = raw_df['race'].replace(['WHITE'], 1)\n",
    "raw_df['race'] = raw_df['race'].replace(['BLACK/AFRICAN AMERICAN', 'HISPANIC/LATINO - DOMINICAN',\n",
    "       'WHITE - OTHER EUROPEAN', 'OTHER', 'ASIAN','UNKNOWN'],0)\n",
    "raw_df['race'] = raw_df['race'].replace(['ASIAN - CHINESE', 'BLACK/CARIBBEAN ISLAND', 'BLACK/CAPE VERDEAN',\n",
    "       'ASIAN - SOUTH EAST ASIAN', 'HISPANIC/LATINO - PUERTO RICAN',\n",
    "       'WHITE - RUSSIAN', 'WHITE - EASTERN EUROPEAN'],0)\n",
    "raw_df['race'] = raw_df['race'].replace(['PATIENT DECLINED TO ANSWER', 'MULTIPLE RACE/ETHNICITY',\n",
    "       'HISPANIC/LATINO - HONDURAN', 'UNABLE TO OBTAIN', 'PORTUGUESE',\n",
    "       'HISPANIC/LATINO - COLUMBIAN', 'HISPANIC OR LATINO'],0)\n",
    "raw_df['race'] = raw_df['race'].replace(['AMERICAN INDIAN/ALASKA NATIVE', 'BLACK/AFRICAN',\n",
    "       'WHITE - BRAZILIAN', 'HISPANIC/LATINO - GUATEMALAN',\n",
    "       'HISPANIC/LATINO - SALVADORAN', 'HISPANIC/LATINO - MEXICAN',\n",
    "       'SOUTH AMERICAN'],0)\n",
    "raw_df['race'] = raw_df['race'].replace(['NATIVE HAWAIIAN OR OTHER PACIFIC ISLANDER',\n",
    "       'ASIAN - ASIAN INDIAN', 'ASIAN - KOREAN'],0)\n",
    "raw_df['gender']=raw_df['gender'].astype(float)\n",
    "raw_df['race']=raw_df['race'].astype(float)\n",
    "raw_df\n",
    "# data pre-processing\n",
    "all_features = list(raw_df)\n",
    "target = ['label']\n",
    "features = list(set(all_features)-set(target))\n",
    "# raw_df.features = DataScaler(raw_df.features)\n",
    "# raw_df[:,features] = DataScaler(raw_df[:,features])\n",
    "\n",
    "# fill the binary missing values\n",
    "raw_df['atrial_fibrillation'] = raw_df['atrial_fibrillation'].fillna(0)\n",
    "raw_df['ischemic_stroke'] = raw_df['ischemic_stroke'].fillna(0)\n",
    "raw_df['trsnsient_ischemic_attack'] = raw_df['trsnsient_ischemic_attack'].fillna(0)\n",
    "raw_df['peripheral_arterial_occusive'] = raw_df['peripheral_arterial_occusive'].fillna(0)\n",
    "raw_df['myocardial_infarction'] = raw_df['myocardial_infarction'].fillna(0)\n",
    "raw_df['congestive_heart_failure'] = raw_df['congestive_heart_failure'].fillna(0)\n",
    "raw_df['hypertension'] = raw_df['hypertension'].fillna(0)\n",
    "raw_df['diabates_mellitus'] = raw_df['diabates_mellitus'].fillna(0)\n",
    "raw_df['hyperlipidemia'] = raw_df['hyperlipidemia'].fillna(0)\n",
    "raw_df['aspirin'] = raw_df['aspirin'].fillna(0)\n",
    "#raw_df['warfarin'] = raw_df['warfarin'].fillna(0)\n",
    "raw_df['bb'] = raw_df['bb'].fillna(0)\n",
    "\n",
    "raw_df\n",
    "# raw_df(raw_df.info())\n",
    "# Impute with mean imputation\n",
    "\n",
    "from sklearn.impute import SimpleImputer\n",
    "df = raw_df.copy()\n",
    "mean_imputer = SimpleImputer(strategy='mean')\n",
    "df['heartrate_max'] = mean_imputer.fit_transform(df['heartrate_max'].values.reshape(-1,1))\n",
    "#df['map_min'] = mean_imputer.fit_transform(df['map_min'].values.reshape(-1,1))\n",
    "df['base_excess_val'] = mean_imputer.fit_transform(df['base_excess_val'].values.reshape(-1,1))\n",
    "df['ph_val'] = mean_imputer.fit_transform(df['ph_val'].values.reshape(-1,1))\n",
    "df['hemoglobin_val'] = mean_imputer.fit_transform(df['hemoglobin_val'].values.reshape(-1,1))\n",
    "df['lactate_val'] = mean_imputer.fit_transform(df['lactate_val'].values.reshape(-1,1))\n",
    "df['pt_val'] = mean_imputer.fit_transform(df['pt_val'].values.reshape(-1,1))\n",
    "df['ptt_val'] = mean_imputer.fit_transform(df['ptt_val'].values.reshape(-1,1))\n",
    "df['inr_val'] = mean_imputer.fit_transform(df['inr_val'].values.reshape(-1,1))\n",
    "df['urea_nitrogen_val'] = mean_imputer.fit_transform(df['urea_nitrogen_val'].values.reshape(-1,1))\n",
    "df['creatinine_val'] = mean_imputer.fit_transform(df['creatinine_val'].values.reshape(-1,1))\n",
    "df['platelet_count_val'] = mean_imputer.fit_transform(df['platelet_count_val'].values.reshape(-1,1))\n",
    "df['bilirubin_val'] = mean_imputer.fit_transform(df['bilirubin_val'].values.reshape(-1,1))\n",
    "df['albumin_val'] = mean_imputer.fit_transform(df['albumin_val'].values.reshape(-1,1))\n",
    "df\n",
    "# reduce the dtype\n",
    "df = df.astype('float32')\n",
    "# varice need transfusion\n",
    "df[\"label\"].value_counts()"
   ]
  },
  {
   "cell_type": "code",
   "execution_count": 2,
   "id": "2b6861da-9099-47ac-923d-46bfc4b96951",
   "metadata": {},
   "outputs": [
    {
     "data": {
      "text/plain": [
       "1499    0.0\n",
       "1076    0.0\n",
       "2053    0.0\n",
       "2266    0.0\n",
       "997     0.0\n",
       "       ... \n",
       "2123    0.0\n",
       "806     0.0\n",
       "2009    0.0\n",
       "1341    0.0\n",
       "1210    0.0\n",
       "Name: label, Length: 744, dtype: float32"
      ]
     },
     "execution_count": 2,
     "metadata": {},
     "output_type": "execute_result"
    }
   ],
   "source": [
    "from sklearn.model_selection import train_test_split\n",
    "y = df.loc[:,'label']\n",
    "X = df.drop('label', axis=1)\n",
    "X_train, X_test, y_train, y_test = train_test_split(X, y, stratify=y, shuffle=True, random_state=2)\n",
    "y_test"
   ]
  },
  {
   "cell_type": "code",
   "execution_count": 3,
   "id": "af7d2e45-415c-4661-a80f-402f580d5fcf",
   "metadata": {},
   "outputs": [
    {
     "data": {
      "text/plain": [
       "XGBClassifier(base_score=0.5, booster='gbtree', callbacks=None,\n",
       "              colsample_bylevel=1, colsample_bynode=1, colsample_bytree=1,\n",
       "              early_stopping_rounds=None, enable_categorical=False,\n",
       "              eval_metric=None, gamma=0, gpu_id=-1, grow_policy='depthwise',\n",
       "              importance_type=None, interaction_constraints='',\n",
       "              learning_rate=0.300000012, max_bin=256, max_cat_to_onehot=4,\n",
       "              max_delta_step=0, max_depth=6, max_leaves=0, min_child_weight=1,\n",
       "              missing=nan, monotone_constraints='()', n_estimators=100,\n",
       "              n_jobs=0, num_parallel_tree=1, predictor='auto', random_state=0,\n",
       "              reg_alpha=0, reg_lambda=1, ...)"
      ]
     },
     "execution_count": 3,
     "metadata": {},
     "output_type": "execute_result"
    }
   ],
   "source": [
    "from xgboost import XGBClassifier\n",
    "model=XGBClassifier()\n",
    "model.fit(X_train, y_train)"
   ]
  },
  {
   "cell_type": "code",
   "execution_count": 4,
   "id": "8a44493d-5ead-41c6-b040-ff57ea616ab1",
   "metadata": {},
   "outputs": [
    {
     "data": {
      "text/plain": [
       "0.8494623655913979"
      ]
     },
     "execution_count": 4,
     "metadata": {},
     "output_type": "execute_result"
    }
   ],
   "source": [
    "import matplotlib.pyplot as plt\n",
    "from sklearn.metrics import accuracy_score\n",
    "y_pred=model.predict(X_test)\n",
    "score=accuracy_score(y_pred,y_test)\n",
    "score"
   ]
  },
  {
   "cell_type": "code",
   "execution_count": 5,
   "id": "a3c914e3-4085-4f5b-b06c-46de34a21ad2",
   "metadata": {},
   "outputs": [],
   "source": [
    "from sklearn.metrics import roc_curve\n",
    "y_pred_proba=model.predict_proba(X_test)\n",
    "y_pred_proba[:,1] #想看输血分类为1的概率\n",
    "fpr,tpr,thres=roc_curve(y_test,y_pred_proba[:,1])"
   ]
  },
  {
   "cell_type": "code",
   "execution_count": 6,
   "id": "33be842f-c415-4cae-b285-23fafed375c6",
   "metadata": {},
   "outputs": [
    {
     "data": {
      "image/png": "[encoded data removed]",
      "text/plain": [
       "<Figure size 500x500 with 1 Axes>"
      ]
     },
     "metadata": {},
     "output_type": "display_data"
    }
   ],
   "source": [
    "import matplotlib.pyplot as plt\n",
    "plt.style.use('tableau-colorblind10')\n",
    "plt.figure(figsize = (5,5))\n",
    "plt.xlim(-0.05,1.05)\n",
    "plt.ylim(-0.05,1.05)\n",
    "plt.title('AUROC of XGBoost for varice data')\n",
    "plt.plot(fpr,tpr,c = '#003D7C',ls='-',lw = 1,  ms = 8, mec='r',mew=3,mfc='y',alpha =1)\n",
    "plt.show()"
   ]
  },
  {
   "cell_type": "code",
   "execution_count": 7,
   "id": "58fff9a7-675e-482b-ad01-fcaa165c3b1b",
   "metadata": {},
   "outputs": [
    {
     "data": {
      "text/plain": [
       "0.8373956594323873"
      ]
     },
     "execution_count": 7,
     "metadata": {},
     "output_type": "execute_result"
    }
   ],
   "source": [
    "# conda install seaborn -c conda-forge\n",
    "from sklearn.metrics import roc_auc_score\n",
    "\n",
    "roc_auc_score(y_test,y_pred_proba[:,1])"
   ]
  },
  {
   "cell_type": "code",
   "execution_count": 8,
   "id": "c5a47038-8cb2-4d4b-8612-bf6617bd12d6",
   "metadata": {},
   "outputs": [
    {
     "data": {
      "text/plain": [
       "Text(46.25, 0.5, 'True')"
      ]
     },
     "execution_count": 8,
     "metadata": {},
     "output_type": "execute_result"
    },
    {
     "data": {
      "image/png": "[encoded data removed]",
      "text/plain": [
       "<Figure size 640x480 with 2 Axes>"
      ]
     },
     "metadata": {},
     "output_type": "display_data"
    }
   ],
   "source": [
    "import seaborn as sn\n",
    "from sklearn.metrics import confusion_matrix\n",
    "import matplotlib.pyplot as plt\n",
    "\n",
    "sn.set()\n",
    "f,ax=plt.subplots()\n",
    "C2= confusion_matrix(y_test, y_pred, labels=[0, 1])\n",
    "sn.heatmap(C2,annot=True,ax=ax, cmap=\"BuPu\") #画热力图\n",
    "ax.set_title('confusion matrix for varice data')\n",
    "ax.set_xlabel('Predict')\n",
    "ax.set_ylabel('True')"
   ]
  },
  {
   "cell_type": "code",
   "execution_count": null,
   "id": "28ad4e41-a766-44ac-8165-96cc49ce39f4",
   "metadata": {},
   "outputs": [],
   "source": []
  },
  {
   "cell_type": "code",
   "execution_count": 11,
   "id": "b19a17bc-05ca-461e-8bbf-3ee081e3efb8",
   "metadata": {},
   "outputs": [
    {
     "data": {
      "text/plain": [
       "Text(46.25, 0.5, 'True')"
      ]
     },
     "execution_count": 11,
     "metadata": {},
     "output_type": "execute_result"
    },
    {
     "data": {
      "image/png": "[encoded data removed]",
      "text/plain": [
       "<Figure size 640x480 with 2 Axes>"
      ]
     },
     "metadata": {},
     "output_type": "display_data"
    }
   ],
   "source": [
    "import seaborn as sn\n",
    "from sklearn.metrics import confusion_matrix\n",
    "import matplotlib.pyplot as plt\n",
    "\n",
    "sn.set()\n",
    "f,ax=plt.subplots()\n",
    "C2= confusion_matrix(y_test, y_pred, labels=[0,1])\n",
    "sn.heatmap(C2,annot=True,ax=ax, cmap=\"BuPu\") #画热力图\n",
    "ax.set_title('confusion matrix for all data')\n",
    "ax.set_xlabel('Predict')\n",
    "ax.set_ylabel('True')"
   ]
  },
  {
   "cell_type": "code",
   "execution_count": 12,
   "id": "bc56d076-c7cc-46fb-9f63-15200f1a23b6",
   "metadata": {},
   "outputs": [
    {
     "data": {
      "text/plain": [
       "array([0.        , 0.00689655, 0.02068966, 0.02068966, 0.02758621,\n",
       "       0.02758621, 0.06206897, 0.06206897, 0.06896552, 0.06896552,\n",
       "       0.14482759, 0.14482759, 0.15862069, 0.15862069, 0.17241379,\n",
       "       0.17241379, 0.1862069 , 0.1862069 , 0.2       , 0.2       ,\n",
       "       0.20689655, 0.20689655, 0.2137931 , 0.2137931 , 0.24137931,\n",
       "       0.24137931, 0.25517241, 0.25517241, 0.26206897, 0.26206897,\n",
       "       0.26896552, 0.26896552, 0.27586207, 0.27586207, 0.30344828,\n",
       "       0.30344828, 0.40689655, 0.40689655, 0.44137931, 0.44137931,\n",
       "       0.44827586, 0.44827586, 0.49655172, 0.49655172, 0.50344828,\n",
       "       0.50344828, 0.51034483, 0.51034483, 0.51724138, 0.51724138,\n",
       "       0.52413793, 0.52413793, 0.53793103, 0.53793103, 0.54482759,\n",
       "       0.54482759, 0.55172414, 0.55172414, 0.55862069, 0.55862069,\n",
       "       0.56551724, 0.56551724, 0.57241379, 0.57241379, 0.5862069 ,\n",
       "       0.5862069 , 0.59310345, 0.59310345, 0.6       , 0.6       ,\n",
       "       0.6137931 , 0.6137931 , 0.62068966, 0.62068966, 0.63448276,\n",
       "       0.63448276, 0.64827586, 0.64827586, 0.65517241, 0.65517241,\n",
       "       0.66206897, 0.66206897, 0.67586207, 0.67586207, 0.68275862,\n",
       "       0.68275862, 0.68965517, 0.68965517, 0.69655172, 0.69655172,\n",
       "       0.71034483, 0.71034483, 0.72413793, 0.72413793, 0.73103448,\n",
       "       0.73103448, 0.73793103, 0.73793103, 0.74482759, 0.74482759,\n",
       "       0.75172414, 0.75172414, 0.75862069, 0.75862069, 0.76551724,\n",
       "       0.76551724, 0.77241379, 0.77241379, 0.77931034, 0.77931034,\n",
       "       0.79310345, 0.79310345, 0.8137931 , 0.8137931 , 0.82068966,\n",
       "       0.82068966, 0.82758621, 0.82758621, 0.83448276, 0.83448276,\n",
       "       0.84137931, 0.84137931, 0.84827586, 0.84827586, 0.85517241,\n",
       "       0.85517241, 0.86206897, 0.86206897, 0.86896552, 0.86896552,\n",
       "       0.87586207, 0.87586207, 0.88275862, 0.88275862, 0.89655172,\n",
       "       0.89655172, 0.90344828, 0.90344828, 0.91034483, 0.91034483,\n",
       "       0.91724138, 0.91724138, 0.92413793, 0.92413793, 0.93103448,\n",
       "       0.93103448, 0.93793103, 0.93793103, 0.94482759, 0.94482759,\n",
       "       0.95172414, 0.95172414, 0.95862069, 0.95862069, 0.96551724,\n",
       "       0.96551724, 0.97241379, 0.97241379, 0.97931034, 0.97931034,\n",
       "       0.9862069 , 0.9862069 , 0.99310345, 0.99310345, 1.        ,\n",
       "       1.        ])"
      ]
     },
     "execution_count": 12,
     "metadata": {},
     "output_type": "execute_result"
    }
   ],
   "source": [
    "tpr"
   ]
  },
  {
   "cell_type": "code",
   "execution_count": 13,
   "id": "d7bf4d50-7850-4179-b210-8bb72bb4c037",
   "metadata": {},
   "outputs": [
    {
     "data": {
      "text/plain": [
       "array([1.99707627e+00, 9.97076273e-01, 9.95976388e-01, 9.92261469e-01,\n",
       "       9.91498411e-01, 9.88974571e-01, 9.77293313e-01, 9.77179229e-01,\n",
       "       9.74321365e-01, 9.66013014e-01, 9.42871392e-01, 9.39369142e-01,\n",
       "       9.31660652e-01, 9.30298626e-01, 9.26282406e-01, 9.22128260e-01,\n",
       "       9.20375943e-01, 9.05272782e-01, 8.95660341e-01, 8.94988358e-01,\n",
       "       8.91873419e-01, 8.83483887e-01, 8.82675767e-01, 8.81728709e-01,\n",
       "       8.48178804e-01, 8.41561019e-01, 8.40754330e-01, 8.10430944e-01,\n",
       "       8.01346362e-01, 7.89207518e-01, 7.77476549e-01, 7.72611976e-01,\n",
       "       7.70443559e-01, 7.68440485e-01, 7.57607996e-01, 7.56527185e-01,\n",
       "       6.86697185e-01, 6.83488905e-01, 6.54711604e-01, 6.27801001e-01,\n",
       "       6.27640009e-01, 6.24266803e-01, 5.81909299e-01, 5.66721916e-01,\n",
       "       5.60426891e-01, 5.53780258e-01, 5.48819602e-01, 5.37389755e-01,\n",
       "       5.33122599e-01, 5.07996559e-01, 5.03825366e-01, 4.87542301e-01,\n",
       "       4.66585904e-01, 4.64832455e-01, 4.63652670e-01, 4.57496136e-01,\n",
       "       4.53598022e-01, 4.47836399e-01, 4.38912719e-01, 3.96377623e-01,\n",
       "       3.81824493e-01, 3.78170192e-01, 3.77587974e-01, 3.72038633e-01,\n",
       "       3.67726445e-01, 3.33255917e-01, 3.30019116e-01, 3.28046113e-01,\n",
       "       3.27405065e-01, 3.19410235e-01, 3.15952152e-01, 3.05396616e-01,\n",
       "       3.02877992e-01, 2.94745624e-01, 2.90245801e-01, 2.61373967e-01,\n",
       "       2.42341682e-01, 2.38426358e-01, 2.22616166e-01, 1.88727319e-01,\n",
       "       1.88336372e-01, 1.86002389e-01, 1.79226756e-01, 1.60133719e-01,\n",
       "       1.59899890e-01, 1.51803195e-01, 1.51103765e-01, 1.50508896e-01,\n",
       "       1.49249494e-01, 1.43606916e-01, 1.41444087e-01, 1.40019506e-01,\n",
       "       1.34894446e-01, 1.33233279e-01, 1.33180112e-01, 1.25382051e-01,\n",
       "       1.24453470e-01, 1.08476169e-01, 1.07663415e-01, 9.80163887e-02,\n",
       "       9.78809595e-02, 9.20921713e-02, 8.99414793e-02, 7.76144490e-02,\n",
       "       7.75537044e-02, 7.50676692e-02, 7.10048676e-02, 6.49490952e-02,\n",
       "       6.49176985e-02, 5.03208786e-02, 4.94000167e-02, 4.71559390e-02,\n",
       "       4.56185751e-02, 4.39312458e-02, 4.39280309e-02, 4.20772433e-02,\n",
       "       4.08425592e-02, 4.07225415e-02, 3.96783948e-02, 3.73671912e-02,\n",
       "       3.67825143e-02, 3.44413295e-02, 3.42240259e-02, 3.36063132e-02,\n",
       "       3.32532935e-02, 3.09523437e-02, 3.05029862e-02, 2.66017485e-02,\n",
       "       2.65201833e-02, 2.60366481e-02, 2.58314293e-02, 2.29232293e-02,\n",
       "       2.29093712e-02, 2.07956526e-02, 2.04501115e-02, 1.92326624e-02,\n",
       "       1.92281473e-02, 1.82213001e-02, 1.81614328e-02, 1.74039863e-02,\n",
       "       1.71399359e-02, 1.60045121e-02, 1.58293229e-02, 1.54921301e-02,\n",
       "       1.49306525e-02, 1.26973735e-02, 1.24690384e-02, 8.51826370e-03,\n",
       "       8.24639481e-03, 7.14433100e-03, 6.92950655e-03, 3.71552561e-03,\n",
       "       3.71431676e-03, 3.70125379e-03, 3.69833969e-03, 2.60736840e-03,\n",
       "       2.56833830e-03, 2.02884176e-03, 2.02213135e-03, 9.45605978e-04,\n",
       "       9.40012804e-04, 9.00588697e-04, 8.89558170e-04, 1.52580251e-04,\n",
       "       1.52454610e-04, 1.47213377e-05], dtype=float32)"
      ]
     },
     "execution_count": 13,
     "metadata": {},
     "output_type": "execute_result"
    }
   ],
   "source": [
    "thres"
   ]
  },
  {
   "cell_type": "code",
   "execution_count": 14,
   "id": "3b72a041-f335-431d-8514-9ea3d69b4f9f",
   "metadata": {},
   "outputs": [],
   "source": [
    "y_threshold = 1.53886926e-04"
   ]
  },
  {
   "cell_type": "code",
   "execution_count": 15,
   "id": "a87e50ab-855d-47b9-9ecb-aee376dfed08",
   "metadata": {},
   "outputs": [],
   "source": [
    "y_pred_proba=model.predict_proba(X_test)"
   ]
  },
  {
   "cell_type": "code",
   "execution_count": 16,
   "id": "a6c9d2e1-0e7f-4825-b46d-6396d4bab35a",
   "metadata": {},
   "outputs": [],
   "source": [
    "y_pred_thres = (y_pred_proba[:,1]>=y_threshold).astype(int)"
   ]
  },
  {
   "cell_type": "code",
   "execution_count": 17,
   "id": "8ab7d7c5-ff3b-4c0f-aad4-9e685cb7c2fc",
   "metadata": {},
   "outputs": [
    {
     "data": {
      "text/plain": [
       "array([[556,  43],\n",
       "       [ 69,  76]])"
      ]
     },
     "execution_count": 17,
     "metadata": {},
     "output_type": "execute_result"
    }
   ],
   "source": [
    "C2"
   ]
  },
  {
   "cell_type": "code",
   "execution_count": 18,
   "id": "f887ecb9-9eef-46d5-a53b-07707b1e5a69",
   "metadata": {},
   "outputs": [
    {
     "data": {
      "text/plain": [
       "Index(['gender', 'race', 'age', 'atrial_fibrillation', 'ischemic_stroke',\n",
       "       'trsnsient_ischemic_attack', 'peripheral_arterial_occusive',\n",
       "       'myocardial_infarction', 'congestive_heart_failure', 'hypertension',\n",
       "       'diabates_mellitus', 'hyperlipidemia', 'aspirin', 'bb', 'heartrate_max',\n",
       "       'sbp_min', 'base_excess_val', 'ph_val', 'hemoglobin_val', 'lactate_val',\n",
       "       'pt_val', 'ptt_val', 'inr_val', 'urea_nitrogen_val', 'creatinine_val',\n",
       "       'platelet_count_val', 'bilirubin_val', 'albumin_val', 'bun', 'label'],\n",
       "      dtype='object')"
      ]
     },
     "execution_count": 18,
     "metadata": {},
     "output_type": "execute_result"
    }
   ],
   "source": [
    "df.columns"
   ]
  },
  {
   "cell_type": "code",
   "execution_count": 19,
   "id": "032264f1-3790-4f96-85b1-4afe6b9de1fc",
   "metadata": {},
   "outputs": [],
   "source": [
    "feature_list = ['gender', 'race', 'age', 'atrial_fibrillation',\n",
    "       'ischemic_stroke', 'trsnsient_ischemic_attack',\n",
    "       'peripheral_arterial_occusive', 'myocardial_infarction',\n",
    "       'congestive_heart_failure', 'hypertension', 'diabates_mellitus',\n",
    "       'hyperlipidemia', 'aspirin', 'warfarin', 'bb', 'heartrate_max',\n",
    "       'map_min', 'base_excess_val', 'ph_val', 'hemoglobin_val', 'lactate_val',\n",
    "       'pt_val', 'ptt_val', 'inr_val', 'urea_nitrogen_val', 'creatinine_val',\n",
    "       'platelet_count_val', 'bilirubin_val', 'albumin_val', 'varice']"
   ]
  },
  {
   "cell_type": "code",
   "execution_count": 20,
   "id": "a85e3387-36d2-4fb6-b94e-289447223b66",
   "metadata": {},
   "outputs": [
    {
     "name": "stdout",
     "output_type": "stream",
     "text": [
      "Variable: base_excess_val      Importance: 0.10999999940395355\n",
      "Variable: ischemic_stroke      Importance: 0.07000000029802322\n",
      "Variable: map_min              Importance: 0.07000000029802322\n",
      "Variable: albumin_val          Importance: 0.07000000029802322\n",
      "Variable: bilirubin_val        Importance: 0.05999999865889549\n",
      "Variable: gender               Importance: 0.05000000074505806\n",
      "Variable: ph_val               Importance: 0.05000000074505806\n",
      "Variable: hemoglobin_val       Importance: 0.05000000074505806\n",
      "Variable: congestive_heart_failure Importance: 0.03999999910593033\n",
      "Variable: bb                   Importance: 0.03999999910593033\n",
      "Variable: heartrate_max        Importance: 0.03999999910593033\n",
      "Variable: pt_val               Importance: 0.03999999910593033\n",
      "Variable: inr_val              Importance: 0.03999999910593033\n",
      "Variable: age                  Importance: 0.029999999329447746\n",
      "Variable: hypertension         Importance: 0.029999999329447746\n",
      "Variable: hyperlipidemia       Importance: 0.029999999329447746\n",
      "Variable: lactate_val          Importance: 0.029999999329447746\n",
      "Variable: atrial_fibrillation  Importance: 0.019999999552965164\n",
      "Variable: myocardial_infarction Importance: 0.019999999552965164\n",
      "Variable: diabates_mellitus    Importance: 0.019999999552965164\n",
      "Variable: ptt_val              Importance: 0.019999999552965164\n",
      "Variable: urea_nitrogen_val    Importance: 0.019999999552965164\n",
      "Variable: creatinine_val       Importance: 0.019999999552965164\n",
      "Variable: platelet_count_val   Importance: 0.019999999552965164\n",
      "Variable: race                 Importance: 0.0\n",
      "Variable: trsnsient_ischemic_attack Importance: 0.0\n",
      "Variable: peripheral_arterial_occusive Importance: 0.0\n",
      "Variable: aspirin              Importance: 0.0\n",
      "Variable: warfarin             Importance: 0.0\n"
     ]
    }
   ],
   "source": [
    "importances = list(model.feature_importances_)\n",
    "\n",
    "# Dictionaries with variable and importance\n",
    "feature_importances = {feature:round(importance, 2) for feature, importance in zip(feature_list, importances)}\n",
    "\n",
    "# Sort the feature importances in decreasing order\n",
    "feature_importances = sorted(feature_importances.items(), key = lambda x: x[1], reverse = True)\n",
    "\n",
    "# Print out the feature and importances \n",
    "[print('Variable: {:20} Importance: {}'.format(*pair)) for pair in feature_importances];"
   ]
  },
  {
   "cell_type": "code",
   "execution_count": 21,
   "id": "4930f77f-67dc-4e26-89e4-fcb551b97c63",
   "metadata": {},
   "outputs": [
    {
     "data": {
      "image/png": "[encoded data removed]",
      "text/plain": [
       "<Figure size 640x480 with 1 Axes>"
      ]
     },
     "metadata": {},
     "output_type": "display_data"
    }
   ],
   "source": [
    "plt.style.use('ggplot')\n",
    "\n",
    "top = 10\n",
    "# the x axis for the plot \n",
    "x_axis = [i for i in range(top)]\n",
    "plot_importance = feature_importances[:top]\n",
    "\n",
    "# Creat a bar plot \n",
    "plt.bar(x_axis, [i[1] for i in plot_importance], orientation = 'vertical')\n",
    "# Define xtick labels \n",
    "plt.xticks(x_axis, [i[0] for i in plot_importance], rotation='vertical')\n",
    "# Define axis labels and titles\n",
    "plt.ylabel('Importance'); plt.xlabel('Variable'); plt.title('Variable Importances');"
   ]
  },
  {
   "cell_type": "code",
   "execution_count": null,
   "id": "98d20715-ca59-40f2-9c56-2df34b772170",
   "metadata": {},
   "outputs": [],
   "source": []
  }
 ],
 "metadata": {
  "kernelspec": {
   "display_name": "Python 3 (ipykernel)",
   "language": "python",
   "name": "python3"
  },
  "language_info": {
   "codemirror_mode": {
    "name": "ipython",
    "version": 3
   },
   "file_extension": ".py",
   "mimetype": "text/x-python",
   "name": "python",
   "nbconvert_exporter": "python",
   "pygments_lexer": "ipython3",
   "version": "3.7.15"
  }
 },
 "nbformat": 4,
 "nbformat_minor": 5
}
