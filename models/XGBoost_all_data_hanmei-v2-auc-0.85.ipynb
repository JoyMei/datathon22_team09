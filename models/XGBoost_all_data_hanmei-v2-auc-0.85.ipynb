{
 "cells": [
  {
   "cell_type": "code",
   "execution_count": 1,
   "id": "7ea639ff-9f3b-4d88-a227-be0a4417d9a9",
   "metadata": {},
   "outputs": [
    {
     "data": {
      "text/plain": [
       "0.0    2393\n",
       "1.0     581\n",
       "Name: label, dtype: int64"
      ]
     },
     "execution_count": 1,
     "metadata": {},
     "output_type": "execute_result"
    }
   ],
   "source": [
    "import numpy as np # linear algebra\n",
    "import pandas as pd # data processing, CSV file I/O (e.g. pd.read_csv)\n",
    "import sklearn\n",
    "from sklearn import preprocessing\n",
    "from sklearn.model_selection import train_test_split\n",
    "raw_data = pd.read_csv('data.csv')\n",
    "\n",
    "raw_df = pd.DataFrame({\n",
    "    \"gender\": raw_data.gender,\n",
    "    \"race\": raw_data.race,\n",
    "    \"age\": raw_data.age,  \n",
    "    \"atrial_fibrillation\": raw_data.atrial_fibrillation,\n",
    "    \"ischemic_stroke\": raw_data.ischemic_stroke, \n",
    "    \"trsnsient_ischemic_attack\": raw_data.trsnsient_ischemic_attack,\n",
    "    \"peripheral_arterial_occusive\": raw_data.peripheral_arterial_occusive, \n",
    "    \"myocardial_infarction\": raw_data.myocardial_infarction,\n",
    "    \"congestive_heart_failure\": raw_data.congestive_heart_failure,\n",
    "    \"hypertension\": raw_data.hypertension,\n",
    "    \"diabates_mellitus\": raw_data.diabates_mellitus,\n",
    "    \"hyperlipidemia\": raw_data.hyperlipidemia,\n",
    "    \"aspirin\": raw_data.aspirin,\n",
    "    #\"warfarin\":raw_data.warfarin,\n",
    "    \"bb\": raw_data.bb,\n",
    "    \"heartrate_max\": raw_data.heartrate_max,\n",
    "    \"sbp_min\": raw_data.sbp_min,\n",
    "    #\"map_min\": raw_data.map_min,\n",
    "    \"base_excess_val\": raw_data.base_excess_val,\n",
    "    \"ph_val\": raw_data.ph_val,\n",
    "    \"hemoglobin_val\": raw_data.hemoglobin_val,\n",
    "    \"lactate_val\": raw_data.lactate_val,\n",
    "    \"pt_val\": raw_data.pt_val,\n",
    "    \"ptt_val\": raw_data.ptt_val,\n",
    "    \"inr_val\": raw_data.inr_val,\n",
    "    \"urea_nitrogen_val\": raw_data.urea_nitrogen_val,\n",
    "    \"creatinine_val\": raw_data.creatinine_val,\n",
    "    \"platelet_count_val\": raw_data.platelet_count_val,\n",
    "    \"bilirubin_val\": raw_data.bilirubin_val,\n",
    "    \"albumin_val\": raw_data.albumin_val,\n",
    "    \"bun\": raw_data.bun,\n",
    "    \"label\": raw_data.trans\n",
    "})\n",
    "# change the race and gender into values\n",
    "raw_df['gender'] = raw_df['gender'].replace(['F'], 1)\n",
    "raw_df['gender'] = raw_df['gender'].replace(['M'], 0)\n",
    "raw_df['race'] = raw_df['race'].replace(['WHITE'], 1)\n",
    "raw_df['race'] = raw_df['race'].replace(['BLACK/AFRICAN AMERICAN', 'HISPANIC/LATINO - DOMINICAN',\n",
    "       'WHITE - OTHER EUROPEAN', 'OTHER', 'ASIAN','UNKNOWN'],0)\n",
    "raw_df['race'] = raw_df['race'].replace(['ASIAN - CHINESE', 'BLACK/CARIBBEAN ISLAND', 'BLACK/CAPE VERDEAN',\n",
    "       'ASIAN - SOUTH EAST ASIAN', 'HISPANIC/LATINO - PUERTO RICAN',\n",
    "       'WHITE - RUSSIAN', 'WHITE - EASTERN EUROPEAN'],0)\n",
    "raw_df['race'] = raw_df['race'].replace(['PATIENT DECLINED TO ANSWER', 'MULTIPLE RACE/ETHNICITY',\n",
    "       'HISPANIC/LATINO - HONDURAN', 'UNABLE TO OBTAIN', 'PORTUGUESE',\n",
    "       'HISPANIC/LATINO - COLUMBIAN', 'HISPANIC OR LATINO'],0)\n",
    "raw_df['race'] = raw_df['race'].replace(['AMERICAN INDIAN/ALASKA NATIVE', 'BLACK/AFRICAN',\n",
    "       'WHITE - BRAZILIAN', 'HISPANIC/LATINO - GUATEMALAN',\n",
    "       'HISPANIC/LATINO - SALVADORAN', 'HISPANIC/LATINO - MEXICAN',\n",
    "       'SOUTH AMERICAN'],0)\n",
    "raw_df['race'] = raw_df['race'].replace(['NATIVE HAWAIIAN OR OTHER PACIFIC ISLANDER',\n",
    "       'ASIAN - ASIAN INDIAN', 'ASIAN - KOREAN'],0)\n",
    "raw_df['gender']=raw_df['gender'].astype(float)\n",
    "raw_df['race']=raw_df['race'].astype(float)\n",
    "raw_df\n",
    "# data pre-processing\n",
    "all_features = list(raw_df)\n",
    "target = ['label']\n",
    "features = list(set(all_features)-set(target))\n",
    "# raw_df.features = DataScaler(raw_df.features)\n",
    "# raw_df[:,features] = DataScaler(raw_df[:,features])\n",
    "\n",
    "# fill the binary missing values\n",
    "raw_df['atrial_fibrillation'] = raw_df['atrial_fibrillation'].fillna(0)\n",
    "raw_df['ischemic_stroke'] = raw_df['ischemic_stroke'].fillna(0)\n",
    "raw_df['trsnsient_ischemic_attack'] = raw_df['trsnsient_ischemic_attack'].fillna(0)\n",
    "raw_df['peripheral_arterial_occusive'] = raw_df['peripheral_arterial_occusive'].fillna(0)\n",
    "raw_df['myocardial_infarction'] = raw_df['myocardial_infarction'].fillna(0)\n",
    "raw_df['congestive_heart_failure'] = raw_df['congestive_heart_failure'].fillna(0)\n",
    "raw_df['hypertension'] = raw_df['hypertension'].fillna(0)\n",
    "raw_df['diabates_mellitus'] = raw_df['diabates_mellitus'].fillna(0)\n",
    "raw_df['hyperlipidemia'] = raw_df['hyperlipidemia'].fillna(0)\n",
    "raw_df['aspirin'] = raw_df['aspirin'].fillna(0)\n",
    "#raw_df['warfarin'] = raw_df['warfarin'].fillna(0)\n",
    "raw_df['bb'] = raw_df['bb'].fillna(0)\n",
    "\n",
    "raw_df\n",
    "# raw_df(raw_df.info())\n",
    "# Impute with mean imputation\n",
    "\n",
    "from sklearn.impute import SimpleImputer\n",
    "df = raw_df.copy()\n",
    "mean_imputer = SimpleImputer(strategy='mean')\n",
    "df['heartrate_max'] = mean_imputer.fit_transform(df['heartrate_max'].values.reshape(-1,1))\n",
    "#df['map_min'] = mean_imputer.fit_transform(df['map_min'].values.reshape(-1,1))\n",
    "df['base_excess_val'] = mean_imputer.fit_transform(df['base_excess_val'].values.reshape(-1,1))\n",
    "df['ph_val'] = mean_imputer.fit_transform(df['ph_val'].values.reshape(-1,1))\n",
    "df['hemoglobin_val'] = mean_imputer.fit_transform(df['hemoglobin_val'].values.reshape(-1,1))\n",
    "df['lactate_val'] = mean_imputer.fit_transform(df['lactate_val'].values.reshape(-1,1))\n",
    "df['pt_val'] = mean_imputer.fit_transform(df['pt_val'].values.reshape(-1,1))\n",
    "df['ptt_val'] = mean_imputer.fit_transform(df['ptt_val'].values.reshape(-1,1))\n",
    "df['inr_val'] = mean_imputer.fit_transform(df['inr_val'].values.reshape(-1,1))\n",
    "df['urea_nitrogen_val'] = mean_imputer.fit_transform(df['urea_nitrogen_val'].values.reshape(-1,1))\n",
    "df['creatinine_val'] = mean_imputer.fit_transform(df['creatinine_val'].values.reshape(-1,1))\n",
    "df['platelet_count_val'] = mean_imputer.fit_transform(df['platelet_count_val'].values.reshape(-1,1))\n",
    "df['bilirubin_val'] = mean_imputer.fit_transform(df['bilirubin_val'].values.reshape(-1,1))\n",
    "df['albumin_val'] = mean_imputer.fit_transform(df['albumin_val'].values.reshape(-1,1))\n",
    "df\n",
    "# reduce the dtype\n",
    "df = df.astype('float32')\n",
    "# varice need transfusion\n",
    "df[\"label\"].value_counts()"
   ]
  },
  {
   "cell_type": "code",
   "execution_count": 2,
   "id": "2b6861da-9099-47ac-923d-46bfc4b96951",
   "metadata": {},
   "outputs": [
    {
     "data": {
      "text/plain": [
       "1499    0.0\n",
       "1076    0.0\n",
       "2053    0.0\n",
       "2266    0.0\n",
       "997     0.0\n",
       "       ... \n",
       "2123    0.0\n",
       "806     0.0\n",
       "2009    0.0\n",
       "1341    0.0\n",
       "1210    0.0\n",
       "Name: label, Length: 744, dtype: float32"
      ]
     },
     "execution_count": 2,
     "metadata": {},
     "output_type": "execute_result"
    }
   ],
   "source": [
    "from sklearn.model_selection import train_test_split\n",
    "y = df.loc[:,'label']\n",
    "X = df.drop('label', axis=1)\n",
    "X_train, X_test, y_train, y_test = train_test_split(X, y, stratify=y, shuffle=True, random_state=2)\n",
    "y_test"
   ]
  },
  {
   "cell_type": "code",
   "execution_count": 3,
   "id": "af7d2e45-415c-4661-a80f-402f580d5fcf",
   "metadata": {},
   "outputs": [
    {
     "data": {
      "text/plain": [
       "XGBClassifier(base_score=0.5, booster='gbtree', callbacks=None,\n",
       "              colsample_bylevel=1, colsample_bynode=1, colsample_bytree=1,\n",
       "              early_stopping_rounds=None, enable_categorical=False,\n",
       "              eval_metric=None, gamma=0, gpu_id=-1, grow_policy='depthwise',\n",
       "              importance_type=None, interaction_constraints='',\n",
       "              learning_rate=0.010000012, max_bin=256, max_cat_to_onehot=4,\n",
       "              max_delta_step=0, max_depth='20', max_leaves=20,\n",
       "              min_child_weight=1, missing=nan, monotone_constraints='()',\n",
       "              n_estimators=100, n_jobs=0, num_parallel_tree=1, predictor='auto',\n",
       "              random_state=0, reg_alpha=0, reg_lambda=1, ...)"
      ]
     },
     "execution_count": 3,
     "metadata": {},
     "output_type": "execute_result"
    }
   ],
   "source": [
    "from xgboost import XGBClassifier\n",
    "\n",
    "model = XGBClassifier(\n",
    "    objective='binary:logistic',\n",
    "    max_depth='20',\n",
    "    learning_rate=0.010000012,\n",
    "    max_leaves=20\n",
    ")\n",
    "\n",
    "model.fit(X_train, y_train)"
   ]
  },
  {
   "cell_type": "code",
   "execution_count": 4,
   "id": "8a44493d-5ead-41c6-b040-ff57ea616ab1",
   "metadata": {},
   "outputs": [
    {
     "data": {
      "text/plain": [
       "0.8333333333333334"
      ]
     },
     "execution_count": 4,
     "metadata": {},
     "output_type": "execute_result"
    }
   ],
   "source": [
    "import matplotlib.pyplot as plt\n",
    "from sklearn.metrics import accuracy_score\n",
    "y_pred=model.predict(X_test)\n",
    "score=accuracy_score(y_pred,y_test)\n",
    "score"
   ]
  },
  {
   "cell_type": "code",
   "execution_count": 5,
   "id": "a3c914e3-4085-4f5b-b06c-46de34a21ad2",
   "metadata": {},
   "outputs": [],
   "source": [
    "from sklearn.metrics import roc_curve\n",
    "y_pred_proba=model.predict_proba(X_test)\n",
    "y_pred_proba[:,1] #想看输血分类为1的概率\n",
    "fpr,tpr,thres=roc_curve(y_test,y_pred_proba[:,1])"
   ]
  },
  {
   "cell_type": "code",
   "execution_count": 6,
   "id": "cf5953f1-2a8c-4b4e-b095-e7c8d92c4b6d",
   "metadata": {},
   "outputs": [
    {
     "data": {
      "text/plain": [
       "0.8520407575844798"
      ]
     },
     "execution_count": 6,
     "metadata": {},
     "output_type": "execute_result"
    }
   ],
   "source": [
    "from sklearn.metrics import roc_auc_score\n",
    "\n",
    "roc_auc_score(y_test,y_pred_proba[:,1])"
   ]
  },
  {
   "cell_type": "code",
   "execution_count": 7,
   "id": "33be842f-c415-4cae-b285-23fafed375c6",
   "metadata": {},
   "outputs": [
    {
     "data": {
      "image/png": "[encoded data removed]",
      "text/plain": [
       "<Figure size 500x500 with 1 Axes>"
      ]
     },
     "metadata": {},
     "output_type": "display_data"
    }
   ],
   "source": [
    "import matplotlib.pyplot as plt\n",
    "plt.style.use('tableau-colorblind10')\n",
    "plt.figure(figsize = (5,5))\n",
    "plt.xlim(-0.05,1.05)\n",
    "plt.ylim(-0.05,1.05)\n",
    "plt.title('AUROC of XGBoost for varice data')\n",
    "plt.plot(fpr,tpr,c = '#003D7C',ls='-',lw = 1,  ms = 8, mec='r',mew=3,mfc='y',alpha =1)\n",
    "plt.show()"
   ]
  },
  {
   "cell_type": "code",
   "execution_count": 8,
   "id": "c5a47038-8cb2-4d4b-8612-bf6617bd12d6",
   "metadata": {},
   "outputs": [
    {
     "data": {
      "text/plain": [
       "Text(46.25, 0.5, 'True')"
      ]
     },
     "execution_count": 8,
     "metadata": {},
     "output_type": "execute_result"
    },
    {
     "data": {
      "image/png": "[encoded data removed]",
      "text/plain": [
       "<Figure size 640x480 with 2 Axes>"
      ]
     },
     "metadata": {},
     "output_type": "display_data"
    }
   ],
   "source": [
    "import seaborn as sn\n",
    "from sklearn.metrics import confusion_matrix\n",
    "import matplotlib.pyplot as plt\n",
    "\n",
    "sn.set()\n",
    "f,ax=plt.subplots()\n",
    "C2= confusion_matrix(y_test, y_pred, labels=[0, 1])\n",
    "sn.heatmap(C2,annot=True,ax=ax, cmap=\"BuPu\") #画热力图\n",
    "ax.set_title('confusion matrix for varice data')\n",
    "ax.set_xlabel('Predict')\n",
    "ax.set_ylabel('True')"
   ]
  },
  {
   "cell_type": "code",
   "execution_count": 9,
   "id": "bc56d076-c7cc-46fb-9f63-15200f1a23b6",
   "metadata": {},
   "outputs": [
    {
     "data": {
      "text/plain": [
       "array([0.        , 0.00689655, 0.0137931 , 0.0137931 , 0.02068966,\n",
       "       0.02068966, 0.02758621, 0.02758621, 0.13103448, 0.13103448,\n",
       "       0.13793103, 0.13793103, 0.15172414, 0.15172414, 0.2137931 ,\n",
       "       0.2137931 , 0.22068966, 0.22068966, 0.23448276, 0.23448276,\n",
       "       0.24137931, 0.24137931, 0.24827586, 0.24827586, 0.26206897,\n",
       "       0.26206897, 0.28275862, 0.28275862, 0.28965517, 0.28965517,\n",
       "       0.29655172, 0.29655172, 0.31724138, 0.31724138, 0.33103448,\n",
       "       0.33103448, 0.33793103, 0.33793103, 0.34482759, 0.34482759,\n",
       "       0.35172414, 0.35172414, 0.36551724, 0.36551724, 0.37241379,\n",
       "       0.37241379, 0.37931034, 0.37931034, 0.3862069 , 0.3862069 ,\n",
       "       0.4       , 0.4       , 0.4137931 , 0.4137931 , 0.42068966,\n",
       "       0.42068966, 0.42758621, 0.42758621, 0.46896552, 0.46896552,\n",
       "       0.47586207, 0.47586207, 0.48275862, 0.48275862, 0.48965517,\n",
       "       0.48965517, 0.49655172, 0.49655172, 0.50344828, 0.50344828,\n",
       "       0.51034483, 0.51034483, 0.51724138, 0.51724138, 0.53103448,\n",
       "       0.53103448, 0.53793103, 0.53793103, 0.54482759, 0.54482759,\n",
       "       0.55172414, 0.55172414, 0.55862069, 0.55862069, 0.57931034,\n",
       "       0.57931034, 0.59310345, 0.59310345, 0.6       , 0.6       ,\n",
       "       0.60689655, 0.60689655, 0.62758621, 0.62758621, 0.63448276,\n",
       "       0.63448276, 0.64137931, 0.64137931, 0.64827586, 0.64827586,\n",
       "       0.66206897, 0.66206897, 0.66896552, 0.66896552, 0.68965517,\n",
       "       0.68965517, 0.69655172, 0.69655172, 0.70344828, 0.70344828,\n",
       "       0.71034483, 0.71034483, 0.73103448, 0.73103448, 0.73793103,\n",
       "       0.73793103, 0.74482759, 0.74482759, 0.75862069, 0.75862069,\n",
       "       0.76551724, 0.76551724, 0.77241379, 0.77241379, 0.7862069 ,\n",
       "       0.7862069 , 0.79310345, 0.79310345, 0.8       , 0.8       ,\n",
       "       0.8137931 , 0.8137931 , 0.82068966, 0.82068966, 0.82758621,\n",
       "       0.82758621, 0.83448276, 0.83448276, 0.85517241, 0.85517241,\n",
       "       0.86206897, 0.86206897, 0.86896552, 0.86896552, 0.87586207,\n",
       "       0.87586207, 0.88275862, 0.88275862, 0.88965517, 0.88965517,\n",
       "       0.89655172, 0.89655172, 0.90344828, 0.90344828, 0.91034483,\n",
       "       0.91034483, 0.92413793, 0.92413793, 0.93103448, 0.93103448,\n",
       "       0.93793103, 0.93793103, 0.93793103, 0.93793103, 0.94482759,\n",
       "       0.94482759, 0.95172414, 0.95172414, 0.95862069, 0.95862069,\n",
       "       0.97241379, 0.97241379, 0.97241379, 0.97241379, 0.97241379,\n",
       "       0.97241379, 0.97241379, 0.97241379, 0.97241379, 0.97241379,\n",
       "       0.97241379, 0.97241379, 0.97241379, 0.97241379, 0.97241379,\n",
       "       0.97241379, 0.97241379, 0.97241379, 0.97931034, 0.97931034,\n",
       "       0.97931034, 0.97931034, 0.97931034, 0.97931034, 0.97931034,\n",
       "       0.97931034, 0.97931034, 0.97931034, 0.97931034, 0.97931034,\n",
       "       0.97931034, 0.97931034, 0.9862069 , 0.9862069 , 0.9862069 ,\n",
       "       0.9862069 , 0.9862069 , 0.9862069 , 0.9862069 , 0.99310345,\n",
       "       0.99310345, 1.        , 1.        , 1.        ])"
      ]
     },
     "execution_count": 9,
     "metadata": {},
     "output_type": "execute_result"
    }
   ],
   "source": [
    "tpr"
   ]
  },
  {
   "cell_type": "code",
   "execution_count": 10,
   "id": "d7bf4d50-7850-4179-b210-8bb72bb4c037",
   "metadata": {},
   "outputs": [
    {
     "data": {
      "text/plain": [
       "array([1.7702943 , 0.7702943 , 0.76484376, 0.7594069 , 0.7422612 ,\n",
       "       0.7298671 , 0.72557056, 0.7239597 , 0.6665596 , 0.6632409 ,\n",
       "       0.66126907, 0.66067046, 0.65502524, 0.65270865, 0.6357931 ,\n",
       "       0.6309569 , 0.6296258 , 0.6248487 , 0.62241495, 0.6213451 ,\n",
       "       0.6203407 , 0.6174817 , 0.6116601 , 0.6087237 , 0.5981158 ,\n",
       "       0.59438384, 0.5914565 , 0.5885628 , 0.5875669 , 0.5805157 ,\n",
       "       0.5797353 , 0.57619196, 0.5690653 , 0.5638678 , 0.5607193 ,\n",
       "       0.55968386, 0.55921423, 0.5588069 , 0.5580792 , 0.55774295,\n",
       "       0.5570873 , 0.55590415, 0.55569905, 0.55361253, 0.5508395 ,\n",
       "       0.5498014 , 0.5493021 , 0.54929394, 0.5484255 , 0.54727554,\n",
       "       0.544214  , 0.54295063, 0.53447616, 0.52521604, 0.52500606,\n",
       "       0.5221289 , 0.5217184 , 0.5183977 , 0.5092922 , 0.50795776,\n",
       "       0.50758004, 0.5069734 , 0.50626355, 0.50570774, 0.502595  ,\n",
       "       0.50205487, 0.5011583 , 0.4975663 , 0.49563217, 0.48729375,\n",
       "       0.4851996 , 0.484275  , 0.48403704, 0.48306388, 0.48159182,\n",
       "       0.47735167, 0.47631985, 0.4750105 , 0.47485262, 0.47248667,\n",
       "       0.4714208 , 0.46941525, 0.4680983 , 0.46591827, 0.4586077 ,\n",
       "       0.44666538, 0.4426689 , 0.44217715, 0.44101796, 0.4388043 ,\n",
       "       0.43166205, 0.411133  , 0.40855086, 0.40541413, 0.40530077,\n",
       "       0.4033174 , 0.40268508, 0.39101392, 0.38947582, 0.38566372,\n",
       "       0.3828272 , 0.38185972, 0.3802974 , 0.37807474, 0.37508452,\n",
       "       0.37487876, 0.37371975, 0.3647892 , 0.3647297 , 0.36357042,\n",
       "       0.36230722, 0.36015716, 0.3580943 , 0.35610878, 0.35567677,\n",
       "       0.3532165 , 0.35160202, 0.35122916, 0.3491824 , 0.3456062 ,\n",
       "       0.34498423, 0.33313012, 0.33167693, 0.329845  , 0.32776353,\n",
       "       0.3273875 , 0.3272801 , 0.32396427, 0.32381096, 0.3165297 ,\n",
       "       0.31502643, 0.31474525, 0.3138489 , 0.31003988, 0.30702797,\n",
       "       0.30323535, 0.30182946, 0.30170494, 0.29978925, 0.299652  ,\n",
       "       0.29942486, 0.2977893 , 0.2966185 , 0.28529096, 0.28480673,\n",
       "       0.27882972, 0.27871957, 0.276077  , 0.27418116, 0.2729835 ,\n",
       "       0.27221897, 0.26938057, 0.26927906, 0.26652303, 0.26320568,\n",
       "       0.26158738, 0.26115626, 0.24952766, 0.2494583 , 0.24094428,\n",
       "       0.23934643, 0.23540083, 0.23458688, 0.23417234, 0.23400721,\n",
       "       0.22057846, 0.22010958, 0.21561055, 0.21548454, 0.21401933,\n",
       "       0.21373504, 0.20703779, 0.20667931, 0.20602812, 0.20557553,\n",
       "       0.20108326, 0.2007585 , 0.20063527, 0.20048887, 0.20040047,\n",
       "       0.19945906, 0.1994411 , 0.19919895, 0.19904031, 0.19791688,\n",
       "       0.19749919, 0.19685882, 0.19685036, 0.19680564, 0.19670096,\n",
       "       0.19663666, 0.19657618, 0.19646576, 0.19561806, 0.1955564 ,\n",
       "       0.1952736 , 0.19524561, 0.19521484, 0.19512495, 0.1950714 ,\n",
       "       0.19491175, 0.19463088, 0.19376966, 0.19278516, 0.19266032,\n",
       "       0.19207302, 0.19181687, 0.1916925 , 0.19095188, 0.19082795,\n",
       "       0.19072986, 0.19069687, 0.1906646 , 0.19057307], dtype=float32)"
      ]
     },
     "execution_count": 10,
     "metadata": {},
     "output_type": "execute_result"
    }
   ],
   "source": [
    "thres"
   ]
  },
  {
   "cell_type": "code",
   "execution_count": 11,
   "id": "3b72a041-f335-431d-8514-9ea3d69b4f9f",
   "metadata": {},
   "outputs": [],
   "source": [
    "y_threshold = 1.53886926e-04"
   ]
  },
  {
   "cell_type": "code",
   "execution_count": 12,
   "id": "a87e50ab-855d-47b9-9ecb-aee376dfed08",
   "metadata": {},
   "outputs": [],
   "source": [
    "y_pred_proba=model.predict_proba(X_test)"
   ]
  },
  {
   "cell_type": "code",
   "execution_count": 13,
   "id": "a6c9d2e1-0e7f-4825-b46d-6396d4bab35a",
   "metadata": {},
   "outputs": [],
   "source": [
    "y_pred_thres = (y_pred_proba[:,1]>=y_threshold).astype(int)"
   ]
  },
  {
   "cell_type": "code",
   "execution_count": 14,
   "id": "8ab7d7c5-ff3b-4c0f-aad4-9e685cb7c2fc",
   "metadata": {},
   "outputs": [
    {
     "data": {
      "text/plain": [
       "array([[548,  51],\n",
       "       [ 73,  72]])"
      ]
     },
     "execution_count": 14,
     "metadata": {},
     "output_type": "execute_result"
    }
   ],
   "source": [
    "C2"
   ]
  },
  {
   "cell_type": "code",
   "execution_count": 15,
   "id": "f887ecb9-9eef-46d5-a53b-07707b1e5a69",
   "metadata": {},
   "outputs": [
    {
     "data": {
      "text/plain": [
       "Index(['gender', 'race', 'age', 'atrial_fibrillation', 'ischemic_stroke',\n",
       "       'trsnsient_ischemic_attack', 'peripheral_arterial_occusive',\n",
       "       'myocardial_infarction', 'congestive_heart_failure', 'hypertension',\n",
       "       'diabates_mellitus', 'hyperlipidemia', 'aspirin', 'bb', 'heartrate_max',\n",
       "       'sbp_min', 'base_excess_val', 'ph_val', 'hemoglobin_val', 'lactate_val',\n",
       "       'pt_val', 'ptt_val', 'inr_val', 'urea_nitrogen_val', 'creatinine_val',\n",
       "       'platelet_count_val', 'bilirubin_val', 'albumin_val', 'bun', 'label'],\n",
       "      dtype='object')"
      ]
     },
     "execution_count": 15,
     "metadata": {},
     "output_type": "execute_result"
    }
   ],
   "source": [
    "df.columns"
   ]
  },
  {
   "cell_type": "code",
   "execution_count": 16,
   "id": "032264f1-3790-4f96-85b1-4afe6b9de1fc",
   "metadata": {},
   "outputs": [],
   "source": [
    "feature_list = ['gender', 'race', 'age', 'atrial_fibrillation',\n",
    "       'ischemic_stroke', 'trsnsient_ischemic_attack',\n",
    "       'peripheral_arterial_occusive', 'myocardial_infarction',\n",
    "       'congestive_heart_failure', 'hypertension', 'diabates_mellitus',\n",
    "       'hyperlipidemia', 'aspirin', 'warfarin', 'bb', 'heartrate_max',\n",
    "       'map_min', 'base_excess_val', 'ph_val', 'hemoglobin_val', 'lactate_val',\n",
    "       'pt_val', 'ptt_val', 'inr_val', 'urea_nitrogen_val', 'creatinine_val',\n",
    "       'platelet_count_val', 'bilirubin_val', 'albumin_val', 'varice']"
   ]
  },
  {
   "cell_type": "code",
   "execution_count": 17,
   "id": "a85e3387-36d2-4fb6-b94e-289447223b66",
   "metadata": {},
   "outputs": [
    {
     "name": "stdout",
     "output_type": "stream",
     "text": [
      "Variable: base_excess_val      Importance: 0.17000000178813934\n",
      "Variable: map_min              Importance: 0.10000000149011612\n",
      "Variable: albumin_val          Importance: 0.10000000149011612\n",
      "Variable: bilirubin_val        Importance: 0.05999999865889549\n",
      "Variable: gender               Importance: 0.05000000074505806\n",
      "Variable: ph_val               Importance: 0.05000000074505806\n",
      "Variable: hemoglobin_val       Importance: 0.05000000074505806\n",
      "Variable: hyperlipidemia       Importance: 0.03999999910593033\n",
      "Variable: heartrate_max        Importance: 0.03999999910593033\n",
      "Variable: age                  Importance: 0.029999999329447746\n",
      "Variable: myocardial_infarction Importance: 0.029999999329447746\n",
      "Variable: diabates_mellitus    Importance: 0.029999999329447746\n",
      "Variable: bb                   Importance: 0.029999999329447746\n",
      "Variable: pt_val               Importance: 0.029999999329447746\n",
      "Variable: ptt_val              Importance: 0.029999999329447746\n",
      "Variable: inr_val              Importance: 0.029999999329447746\n",
      "Variable: urea_nitrogen_val    Importance: 0.029999999329447746\n",
      "Variable: atrial_fibrillation  Importance: 0.019999999552965164\n",
      "Variable: hypertension         Importance: 0.019999999552965164\n",
      "Variable: lactate_val          Importance: 0.019999999552965164\n",
      "Variable: creatinine_val       Importance: 0.019999999552965164\n",
      "Variable: platelet_count_val   Importance: 0.019999999552965164\n",
      "Variable: congestive_heart_failure Importance: 0.009999999776482582\n",
      "Variable: race                 Importance: 0.0\n",
      "Variable: ischemic_stroke      Importance: 0.0\n",
      "Variable: trsnsient_ischemic_attack Importance: 0.0\n",
      "Variable: peripheral_arterial_occusive Importance: 0.0\n",
      "Variable: aspirin              Importance: 0.0\n",
      "Variable: warfarin             Importance: 0.0\n"
     ]
    }
   ],
   "source": [
    "importances = list(model.feature_importances_)\n",
    "\n",
    "# Dictionaries with variable and importance\n",
    "feature_importances = {feature:round(importance, 2) for feature, importance in zip(feature_list, importances)}\n",
    "\n",
    "# Sort the feature importances in decreasing order\n",
    "feature_importances = sorted(feature_importances.items(), key = lambda x: x[1], reverse = True)\n",
    "\n",
    "# Print out the feature and importances \n",
    "[print('Variable: {:20} Importance: {}'.format(*pair)) for pair in feature_importances];"
   ]
  },
  {
   "cell_type": "code",
   "execution_count": 18,
   "id": "4930f77f-67dc-4e26-89e4-fcb551b97c63",
   "metadata": {},
   "outputs": [
    {
     "data": {
      "image/png": "[encoded data removed]",
      "text/plain": [
       "<Figure size 640x480 with 1 Axes>"
      ]
     },
     "metadata": {},
     "output_type": "display_data"
    }
   ],
   "source": [
    "plt.style.use('ggplot')\n",
    "\n",
    "top = 10\n",
    "# the x axis for the plot \n",
    "x_axis = [i for i in range(top)]\n",
    "plot_importance = feature_importances[:top]\n",
    "\n",
    "# Creat a bar plot \n",
    "plt.bar(x_axis, [i[1] for i in plot_importance], orientation = 'vertical')\n",
    "# Define xtick labels \n",
    "plt.xticks(x_axis, [i[0] for i in plot_importance], rotation='vertical')\n",
    "# Define axis labels and titles\n",
    "plt.ylabel('Importance'); plt.xlabel('Variable'); plt.title('Variable Importances');"
   ]
  },
  {
   "cell_type": "code",
   "execution_count": null,
   "id": "98d20715-ca59-40f2-9c56-2df34b772170",
   "metadata": {},
   "outputs": [],
   "source": []
  },
  {
   "cell_type": "code",
   "execution_count": null,
   "id": "8d17022e-8c8c-4af8-9e80-23bbc3b2d74f",
   "metadata": {},
   "outputs": [],
   "source": []
  },
  {
   "cell_type": "code",
   "execution_count": null,
   "id": "1db603f9-005b-43d8-89f8-25fe9a67f3a1",
   "metadata": {},
   "outputs": [],
   "source": []
  }
 ],
 "metadata": {
  "kernelspec": {
   "display_name": "Python 3 (ipykernel)",
   "language": "python",
   "name": "python3"
  },
  "language_info": {
   "codemirror_mode": {
    "name": "ipython",
    "version": 3
   },
   "file_extension": ".py",
   "mimetype": "text/x-python",
   "name": "python",
   "nbconvert_exporter": "python",
   "pygments_lexer": "ipython3",
   "version": "3.7.15"
  }
 },
 "nbformat": 4,
 "nbformat_minor": 5
}
